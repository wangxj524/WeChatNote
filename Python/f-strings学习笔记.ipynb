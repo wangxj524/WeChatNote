{
 "cells": [
  {
   "cell_type": "markdown",
   "metadata": {},
   "source": [
    "## f-strings之美--Python\n",
    "\n",
    "从Python3.6开始，Python有了新的格式化字符串语法，那就是f-strings。与以前的两种格式化字符串语法相比，我觉f-strings不仅更简洁已读，而且速度更快。闲话少说，直接来看看这三种格式化字符串的方法。\n",
    "\n",
    "#### 1. %"
   ]
  },
  {
   "cell_type": "code",
   "execution_count": 9,
   "metadata": {},
   "outputs": [
    {
     "data": {
      "text/plain": [
       "'My name is Lambert'"
      ]
     },
     "execution_count": 9,
     "metadata": {},
     "output_type": "execute_result"
    }
   ],
   "source": [
    "first_name = 'Lambert'\n",
    "last_name = 'Wang'\n",
    "# 单个变量\n",
    "'My name is %s' % first_name"
   ]
  },
  {
   "cell_type": "code",
   "execution_count": 10,
   "metadata": {},
   "outputs": [
    {
     "data": {
      "text/plain": [
       "'My name is Lambert Wang'"
      ]
     },
     "execution_count": 10,
     "metadata": {},
     "output_type": "execute_result"
    }
   ],
   "source": [
    "# 多个变量\n",
    "'My name is %s %s' % (first_name, last_name)"
   ]
  },
  {
   "cell_type": "code",
   "execution_count": 12,
   "metadata": {},
   "outputs": [
    {
     "data": {
      "text/plain": [
       "'My name is Lambert Wang'"
      ]
     },
     "execution_count": 12,
     "metadata": {},
     "output_type": "execute_result"
    }
   ],
   "source": [
    "# 字典形式\n",
    "'My name is %(first_name)s %(last_name)s' % {'first_name': 'Lambert', 'last_name': 'Wang'}"
   ]
  },
  {
   "cell_type": "code",
   "execution_count": 54,
   "metadata": {},
   "outputs": [
    {
     "name": "stdout",
     "output_type": "stream",
     "text": [
      "|123|123       |        123|\n",
      "|123|123       |       123|0000000123|\n",
      " 12.212\n",
      "012.211\n"
     ]
    }
   ],
   "source": [
    "# 占位填充 \n",
    "print('|%s|%-10s| %10s|' % ('123', '123', '123'))\n",
    "print('|%d|%-10d|%10d|%010d|' % (123, 123, 123, 123))\n",
    "# 浮点数精度\n",
    "print('%7.3f' % 12.2116) # 7表示整个浮点数（包括前面填充的空格）的宽度，3表示保留三位小数。\n",
    "print('%07.3f' % 12.2114) # 用0来填充更容易查看。两个例子对比可以看出四舍五入。"
   ]
  },
  {
   "cell_type": "markdown",
   "metadata": {},
   "source": [
    "例子就先举这么多，不明白的地方自己多搜索多尝试吧。这种字符串格式化用法使用还是比较广泛的。但是当参数较多时可读性很差，占位符数量与参数数量必须一致，即使同一个变量要用多次也必须传入多次。\n",
    "\n",
    "#### 2. str.format()"
   ]
  },
  {
   "cell_type": "code",
   "execution_count": 55,
   "metadata": {},
   "outputs": [
    {
     "data": {
      "text/plain": [
       "'My name is Lambert'"
      ]
     },
     "execution_count": 55,
     "metadata": {},
     "output_type": "execute_result"
    }
   ],
   "source": [
    "first_name = 'Lambert'\n",
    "last_name = 'Wang'\n",
    "# 单个变量\n",
    "'My name is {}'.format(first_name)"
   ]
  },
  {
   "cell_type": "code",
   "execution_count": 56,
   "metadata": {},
   "outputs": [
    {
     "data": {
      "text/plain": [
       "'My name is Lambert Wang'"
      ]
     },
     "execution_count": 56,
     "metadata": {},
     "output_type": "execute_result"
    }
   ],
   "source": [
    "# 多个变量\n",
    "'My name is {} {}'.format(first_name, last_name)"
   ]
  },
  {
   "cell_type": "code",
   "execution_count": 58,
   "metadata": {},
   "outputs": [
    {
     "data": {
      "text/plain": [
       "'My name is Lambert Wang'"
      ]
     },
     "execution_count": 58,
     "metadata": {},
     "output_type": "execute_result"
    }
   ],
   "source": [
    "# 关键字参数\n",
    "'My name is {first_name} {last_name}'.format(first_name='Lambert', last_name='Wang')"
   ]
  },
  {
   "cell_type": "code",
   "execution_count": 75,
   "metadata": {},
   "outputs": [
    {
     "data": {
      "text/plain": [
       "'My name is Lambert Wang Lambert'"
      ]
     },
     "execution_count": 75,
     "metadata": {},
     "output_type": "execute_result"
    }
   ],
   "source": [
    "# 位置参数\n",
    "'My name is {1} {0} {1}'.format('Wang', 'Lambert')\n",
    "# 把format中的参数当成一个list，而字符串中数值相当于利用列表下标从list取值"
   ]
  },
  {
   "cell_type": "code",
   "execution_count": 76,
   "metadata": {},
   "outputs": [
    {
     "data": {
      "text/plain": [
       "'My name is Lambert Wang'"
      ]
     },
     "execution_count": 76,
     "metadata": {},
     "output_type": "execute_result"
    }
   ],
   "source": [
    "#  通过下标取值\n",
    "name = ['Lambert', 'Wang']\n",
    "'My name is {0[0]} {0[1]}'.format(name)"
   ]
  },
  {
   "cell_type": "code",
   "execution_count": 84,
   "metadata": {},
   "outputs": [
    {
     "data": {
      "text/plain": [
       "'My name is Lambert Wang'"
      ]
     },
     "execution_count": 84,
     "metadata": {},
     "output_type": "execute_result"
    }
   ],
   "source": [
    "# 通过对象属性\n",
    "class name():\n",
    "    first_name = \"Lambert\"\n",
    "    last_name = \"Wang\"\n",
    "'My name is {0.first_name} {0.last_name}'.format(name)"
   ]
  },
  {
   "cell_type": "code",
   "execution_count": 74,
   "metadata": {},
   "outputs": [
    {
     "name": "stdout",
     "output_type": "stream",
     "text": [
      "|123       |\n",
      "|123       |\n",
      "|       123|\n",
      "|   123    |\n",
      "|123*******|\n",
      "|*******123|\n",
      "|***123****|\n",
      " 12.212\n",
      "012.211\n",
      " 12.211\n"
     ]
    }
   ],
   "source": [
    "# 占位填充\n",
    "# 位置参数:[填充字符][对齐方式 <^>][宽度]\n",
    "print('|{0:10}|'.format('123')) # 冒号前边的0参考“位置参数”。\n",
    "print('|{0:<10}|'.format('123'))\n",
    "print('|{0:>10}|'.format('123'))\n",
    "print('|{0:^10}|'.format('123'))\n",
    "print('|{0:*<10}|'.format('123'))\n",
    "print('|{0:*>10}|'.format('123'))\n",
    "print('|{0:*^10}|'.format('123'))\n",
    "# 浮点数精度\n",
    "print('{:7.3f}'.format(12.2116)) # 7表示整个浮点数（包括前面填充的空格）的宽度，3表示保留三位小数。\n",
    "print('{:07.3f}'.format(12.2114)) # 用0来填充更容易查看。两个例子对比可以看出四舍五入。\n",
    "print('{0:7.3f}'.format(12.2114)) # 冒号前边的0参考“位置参数”。"
   ]
  },
  {
   "cell_type": "markdown",
   "metadata": {},
   "source": [
    "str.format()用法极大扩展了字符串格式化的灵活性。\n",
    "\n",
    "#### 3. f-strings"
   ]
  },
  {
   "cell_type": "code",
   "execution_count": 86,
   "metadata": {},
   "outputs": [
    {
     "data": {
      "text/plain": [
       "'My name is Lambert Wang'"
      ]
     },
     "execution_count": 86,
     "metadata": {},
     "output_type": "execute_result"
    }
   ],
   "source": [
    "first_name = 'Lambert'\n",
    "last_name = 'Wang'\n",
    "f'My name is {first_name} {last_name}'"
   ]
  },
  {
   "cell_type": "code",
   "execution_count": 88,
   "metadata": {},
   "outputs": [
    {
     "data": {
      "text/plain": [
       "'My name is Lambert Wang'"
      ]
     },
     "execution_count": 88,
     "metadata": {},
     "output_type": "execute_result"
    }
   ],
   "source": [
    "name = 'lambert wang'\n",
    "f'My name is {name.title()}'"
   ]
  },
  {
   "cell_type": "code",
   "execution_count": 90,
   "metadata": {},
   "outputs": [
    {
     "data": {
      "text/plain": [
       "'My name is Lambert Wang'"
      ]
     },
     "execution_count": 90,
     "metadata": {},
     "output_type": "execute_result"
    }
   ],
   "source": [
    "name = {'first_name': 'Lambert', 'last_name': 'Wang'}\n",
    "f'My name is {name[\"first_name\"]} {name[\"last_name\"]}' # 注意单双引号的使用"
   ]
  },
  {
   "cell_type": "code",
   "execution_count": 92,
   "metadata": {},
   "outputs": [
    {
     "data": {
      "text/plain": [
       "'Sum: 6'"
      ]
     },
     "execution_count": 92,
     "metadata": {},
     "output_type": "execute_result"
    }
   ],
   "source": [
    "a = 1\n",
    "b = 2\n",
    "c = 3\n",
    "f'Sum: {a+b+c}'"
   ]
  },
  {
   "cell_type": "markdown",
   "metadata": {},
   "source": [
    "看到f-strings的优美之处了吧。f-strings中文叫做**字面量格式化字符串**，那个小本本记下来，或许某一天就可以装个X。\n",
    "\n",
    "#### 4. 速度比较"
   ]
  },
  {
   "cell_type": "code",
   "execution_count": 101,
   "metadata": {},
   "outputs": [
    {
     "name": "stdout",
     "output_type": "stream",
     "text": [
      "%: 0.2611416080035269\n",
      "str.format(): 0.38358977308962494\n",
      "f-strings: 0.12904681009240448\n"
     ]
    }
   ],
   "source": [
    "import timeit\n",
    "\n",
    "t = timeit.timeit(\"\"\"first_name = 'Lambert'\n",
    "last_name = 'Wang'\n",
    "'My name is %s %s' % (first_name, last_name)\"\"\", number=1000000)\n",
    "print(f'%: {t}')\n",
    "\n",
    "t = timeit.timeit(\"\"\"first_name = 'Lambert'\n",
    "last_name = 'Wang'\n",
    "'My name is {} {}'.format(first_name, last_name)\"\"\", number=1000000)\n",
    "print(f'str.format(): {t}')\n",
    "\n",
    "t = timeit.timeit(\"\"\"first_name = 'Lambert'\n",
    "last_name = 'Wang'\n",
    "f'My name is {first_name} {last_name}'\"\"\", number=1000000)\n",
    "print(f'f-strings: {t}')"
   ]
  },
  {
   "cell_type": "markdown",
   "metadata": {},
   "source": [
    "#### 5. 其他\n",
    "因为f-strings是从Python3.6才引入的，因此以前的版本是不能使用的。如果想要尝尝鲜可以去搜索“future-fstrings”，使用这个项目只能在用法上尝尝鲜，因为实现上是将f-strings转换成format的写法，所以速度肯定是较慢的。这里只给提供这个检索关键词，其他的靠自己吧。"
   ]
  }
 ],
 "metadata": {
  "kernelspec": {
   "display_name": "Python 3",
   "language": "python",
   "name": "python3"
  },
  "language_info": {
   "codemirror_mode": {
    "name": "ipython",
    "version": 3
   },
   "file_extension": ".py",
   "mimetype": "text/x-python",
   "name": "python",
   "nbconvert_exporter": "python",
   "pygments_lexer": "ipython3",
   "version": "3.6.5"
  }
 },
 "nbformat": 4,
 "nbformat_minor": 2
}
