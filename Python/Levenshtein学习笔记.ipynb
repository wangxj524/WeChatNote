{
 "cells": [
  {
   "cell_type": "markdown",
   "metadata": {},
   "source": [
    "### Levenshtein的安装\n",
    "这里着重说一下Windows系统，直接`pip install python-Levenshtein`可能会遇到`Microsoft Visual C++ is required`之类的错误提示。那么可以到这个[网站](https://www.lfd.uci.edu/~gohlke/pythonlibs/)下载已经编译好的whl文件。然后，`pip install whl文件路径`来安装肯定就没有问题了。还有记得收藏这个网站，网址为：https://www.lfd.uci.edu/~gohlke/pythonlibs/ 再碰到类似的错误，都可以到这里找一哈。"
   ]
  },
  {
   "cell_type": "markdown",
   "metadata": {},
   "source": [
    "### Levenshtein的使用"
   ]
  },
  {
   "cell_type": "code",
   "execution_count": 10,
   "metadata": {},
   "outputs": [],
   "source": [
    "import Levenshtein"
   ]
  },
  {
   "cell_type": "markdown",
   "metadata": {},
   "source": [
    "#### 1.汉明距离\n",
    "汉明距离表示两个相同长度的字符串对应位置上不同字符的数量。"
   ]
  },
  {
   "cell_type": "code",
   "execution_count": 11,
   "metadata": {},
   "outputs": [
    {
     "data": {
      "text/plain": [
       "2"
      ]
     },
     "execution_count": 11,
     "metadata": {},
     "output_type": "execute_result"
    }
   ],
   "source": [
    "Levenshtein.hamming('abc', 'cba')"
   ]
  },
  {
   "cell_type": "code",
   "execution_count": 12,
   "metadata": {},
   "outputs": [
    {
     "data": {
      "text/plain": [
       "3"
      ]
     },
     "execution_count": 12,
     "metadata": {},
     "output_type": "execute_result"
    }
   ],
   "source": [
    "Levenshtein.hamming('abcc', 'acdd')"
   ]
  },
  {
   "cell_type": "code",
   "execution_count": 13,
   "metadata": {
    "scrolled": true
   },
   "outputs": [
    {
     "ename": "ValueError",
     "evalue": "hamming expected two unicodes of the same length",
     "output_type": "error",
     "traceback": [
      "\u001b[0;31m---------------------------------------------------------------------------\u001b[0m",
      "\u001b[0;31mValueError\u001b[0m                                Traceback (most recent call last)",
      "\u001b[0;32m<ipython-input-13-0e69df4ae475>\u001b[0m in \u001b[0;36m<module>\u001b[0;34m\u001b[0m\n\u001b[1;32m      1\u001b[0m \u001b[0;31m# 两个字符串长度不一样会怎么样呢？\u001b[0m\u001b[0;34m\u001b[0m\u001b[0;34m\u001b[0m\u001b[0m\n\u001b[0;32m----> 2\u001b[0;31m \u001b[0mLevenshtein\u001b[0m\u001b[0;34m.\u001b[0m\u001b[0mhamming\u001b[0m\u001b[0;34m(\u001b[0m\u001b[0;34m'abcc'\u001b[0m\u001b[0;34m,\u001b[0m \u001b[0;34m'acd'\u001b[0m\u001b[0;34m)\u001b[0m\u001b[0;34m\u001b[0m\u001b[0m\n\u001b[0m",
      "\u001b[0;31mValueError\u001b[0m: hamming expected two unicodes of the same length"
     ]
    }
   ],
   "source": [
    "# 两个字符串长度不一样会怎么样呢？\n",
    "Levenshtein.hamming('abcc', 'acd')"
   ]
  },
  {
   "cell_type": "markdown",
   "metadata": {},
   "source": [
    "汉明距离比较简单，不用此函数通过一个简单的循环也很容易实现。"
   ]
  },
  {
   "cell_type": "markdown",
   "metadata": {},
   "source": [
    "#### 2.编辑距离\n",
    "编辑距离也称Levenshtein距离，是描述一个字符串通过插入、删除、替换操作转化成另一个字符串的最少操作次数。它能**量化**两个字符串之间的差异程度。"
   ]
  },
  {
   "cell_type": "code",
   "execution_count": 14,
   "metadata": {},
   "outputs": [
    {
     "data": {
      "text/plain": [
       "1"
      ]
     },
     "execution_count": 14,
     "metadata": {},
     "output_type": "execute_result"
    }
   ],
   "source": [
    "Levenshtein.distance('ac', 'abc')  # 经过一次插入操作"
   ]
  },
  {
   "cell_type": "code",
   "execution_count": 15,
   "metadata": {},
   "outputs": [
    {
     "data": {
      "text/plain": [
       "2"
      ]
     },
     "execution_count": 15,
     "metadata": {},
     "output_type": "execute_result"
    }
   ],
   "source": [
    "Levenshtein.distance('acd', 'abdc')  # 经过 c替换为b、末尾添加一个c 这两步操作"
   ]
  },
  {
   "cell_type": "markdown",
   "metadata": {},
   "source": [
    "编辑距离的确可以用来表示两个字符串之间的差异，但是实际问题中还需要考虑字符串长度问题。两组字符串编辑距离一样的情况下，明显字符串越长的组其组内字符串更相似。因此我们可以自然而然的想到使用`编辑距离/字符串长度`这种方式。"
   ]
  },
  {
   "cell_type": "markdown",
   "metadata": {},
   "source": [
    "#### 3.莱文斯坦比\n",
    "先看公式 $ratio = (sum-dis)/sum$ 其中`sum`是两个字符串的长度之和，`dis`称为**类编辑距离**。之所以称为**类编辑距离**，是因为它并不是上面所提到的编辑距离，但是也十分类似：删除与插入操作距离依然+1，而**替换**操作距离+2。这么做的原因后面再说！"
   ]
  },
  {
   "cell_type": "code",
   "execution_count": 16,
   "metadata": {},
   "outputs": [
    {
     "data": {
      "text/plain": [
       "0.0"
      ]
     },
     "execution_count": 16,
     "metadata": {},
     "output_type": "execute_result"
    }
   ],
   "source": [
    "# 两个字符串完全不同\n",
    "Levenshtein.ratio('abc', 'xyz')"
   ]
  },
  {
   "cell_type": "code",
   "execution_count": 17,
   "metadata": {},
   "outputs": [
    {
     "data": {
      "text/plain": [
       "1.0"
      ]
     },
     "execution_count": 17,
     "metadata": {},
     "output_type": "execute_result"
    }
   ],
   "source": [
    "# 两个字符串完全相同\n",
    "Levenshtein.ratio('abc', 'abc')"
   ]
  },
  {
   "cell_type": "code",
   "execution_count": 18,
   "metadata": {},
   "outputs": [
    {
     "name": "stdout",
     "output_type": "stream",
     "text": [
      "0.6666666666666666\n",
      "0.8\n"
     ]
    }
   ],
   "source": [
    "# 如果使用编辑距离，下面两个例子结果应该是一样的\n",
    "print(Levenshtein.ratio('abc', 'abd'))\n",
    "print(Levenshtein.ratio('abc', 'ab'))"
   ]
  },
  {
   "cell_type": "markdown",
   "metadata": {},
   "source": [
    "为什么替换操作距离要+2呢？\n",
    "考虑一种极端情况即可: 字符串 'x' 与字符串 'y' 如果使用编辑距离那么ratio=(2-1)/2=0.5。但是两个字符串却没有任何相似之处，但是ratio却不等于0，这是不是不合理呢，而替换操作距离+2便可以解决这个问题。"
   ]
  },
  {
   "cell_type": "code",
   "execution_count": 8,
   "metadata": {},
   "outputs": [
    {
     "name": "stdout",
     "output_type": "stream",
     "text": [
      "0.0\n"
     ]
    }
   ],
   "source": [
    "print(Levenshtein.ratio('x', 'y'))"
   ]
  },
  {
   "cell_type": "markdown",
   "metadata": {},
   "source": [
    "莱文斯坦比将字符串的长度纳入考虑范围之内，使得该比值的适用范围更广。常常用于衡量两个字符串之间的**相似度**。"
   ]
  }
 ],
 "metadata": {
  "kernelspec": {
   "display_name": "Python 3",
   "language": "python",
   "name": "python3"
  },
  "language_info": {
   "codemirror_mode": {
    "name": "ipython",
    "version": 3
   },
   "file_extension": ".py",
   "mimetype": "text/x-python",
   "name": "python",
   "nbconvert_exporter": "python",
   "pygments_lexer": "ipython3",
   "version": "3.6.5"
  }
 },
 "nbformat": 4,
 "nbformat_minor": 2
}
